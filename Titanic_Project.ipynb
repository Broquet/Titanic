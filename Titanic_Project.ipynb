{
 "cells": [
  {
   "cell_type": "markdown",
   "metadata": {},
   "source": [
    "# Titanic Data Analysis\n",
    "\n",
    "## Introduction\n",
    "\n",
    "**Purpose**: To determine which factors increased the survival of the Titanic passengers according to data analysis.\n",
    "\n",
    "This dataset contains demographics and passenger information from 891 of the 2'224 passengers and crew on board the Titanic. A description of this dataset can be viewed on [the Kaggle website](https://www.kaggle.com/c/titanic/data).\n",
    "\n",
    "### Questions\n",
    "\n",
    "[The Kaggle website](https://www.kaggle.com/c/titanic) mentioned the following: \"One of the reasons that the shipwreck led to such loss of life was that there were not enough lifeboats for the passengers and crew. Although there was some element of luck involved in surviving the sinking, some groups of people were more likely to survive than others, such as women, children, and the upper-class.\"\n",
    "\n",
    "What factors made people more likely to survive?\n",
    "\n",
    "1. Which class had higher chances survive according to gender? \n",
    "2. Did women and children were prioritized over men? Was the chance of survival higher as a women or child?\n",
    "3. Did age, regardless of sex, was a determinant factor of survival?\n",
    "\n",
    "\n",
    "\n",
    "## Data Wrangling\n",
    "\n",
    "### Data Dictionary  \n",
    "from [the Kaggle website](https://www.kaggle.com/c/titanic)\n",
    "\n",
    "* **survival**: Survival (0 = No; 1 = Yes)\n",
    "* **pclass**: Passenger Class (1 = 1st; 2 = 2nd; 3 = 3rd)\n",
    "* **name**: Name\n",
    "* **sex**: Sex\n",
    "* **age**: Age\n",
    "* **sibsp**: Number of Siblings/Spouses Aboard\n",
    "* **parch**: Number of Parents/Children Aboard\n",
    "* **ticket**: Ticket Number\n",
    "* **fare**: Passenger Fare\n",
    "* **cabin**: Cabin\n",
    "* **embarked**: Port of Embarkation (C = Cherbourg; Q = Queenstown; S = Southampton)\n",
    "\n",
    "**Additional information**:\n",
    "* Pclass is a proxy for socio-economic status (SES) 1st ~ Upper; 2nd ~ Middle; 3rd ~ Lower\n",
    "\n",
    "* Age is in Years; Fractional if Age less than One (1) If the Age is Estimated, it is in the form xx.5\n",
    "\n",
    "With respect to the family relation variables (i.e. sibsp and parch) some relations were ignored. The following are the definitions used for sibsp and parch:\n",
    "\n",
    "* **Sibling**: Brother, Sister, Stepbrother, or Stepsister of Passenger Aboard Titanic\n",
    "* **Spouse**: Husband or Wife of Passenger Aboard Titanic (Mistresses and Fiances Ignored)\n",
    "* **Parent**: Mother or Father of Passenger Aboard Titanic\n",
    "* **Child**: Son, Daughter, Stepson, or Stepdaughter of Passenger Aboard Titanic. (Some children travelled only with a nanny, therefore parch=0 for them).\n"
   ]
  },
  {
   "cell_type": "markdown",
   "metadata": {},
   "source": [
    "## Data Exploration"
   ]
  },
  {
   "cell_type": "code",
   "execution_count": 14,
   "metadata": {},
   "outputs": [
    {
     "data": {
      "text/html": [
       "<div>\n",
       "<style>\n",
       "    .dataframe thead tr:only-child th {\n",
       "        text-align: right;\n",
       "    }\n",
       "\n",
       "    .dataframe thead th {\n",
       "        text-align: left;\n",
       "    }\n",
       "\n",
       "    .dataframe tbody tr th {\n",
       "        vertical-align: top;\n",
       "    }\n",
       "</style>\n",
       "<table border=\"1\" class=\"dataframe\">\n",
       "  <thead>\n",
       "    <tr style=\"text-align: right;\">\n",
       "      <th></th>\n",
       "      <th>PassengerId</th>\n",
       "      <th>Survived</th>\n",
       "      <th>Pclass</th>\n",
       "      <th>Name</th>\n",
       "      <th>Sex</th>\n",
       "      <th>Age</th>\n",
       "      <th>SibSp</th>\n",
       "      <th>Parch</th>\n",
       "      <th>Ticket</th>\n",
       "      <th>Fare</th>\n",
       "      <th>Cabin</th>\n",
       "      <th>Embarked</th>\n",
       "    </tr>\n",
       "  </thead>\n",
       "  <tbody>\n",
       "    <tr>\n",
       "      <th>0</th>\n",
       "      <td>1</td>\n",
       "      <td>0</td>\n",
       "      <td>3</td>\n",
       "      <td>Braund, Mr. Owen Harris</td>\n",
       "      <td>male</td>\n",
       "      <td>22.0</td>\n",
       "      <td>1</td>\n",
       "      <td>0</td>\n",
       "      <td>A/5 21171</td>\n",
       "      <td>7.25</td>\n",
       "      <td>NaN</td>\n",
       "      <td>S</td>\n",
       "    </tr>\n",
       "    <tr>\n",
       "      <th>1</th>\n",
       "      <td>2</td>\n",
       "      <td>1</td>\n",
       "      <td>1</td>\n",
       "      <td>Cumings, Mrs. John Bradley (Florence Briggs Th...</td>\n",
       "      <td>female</td>\n",
       "      <td>38.0</td>\n",
       "      <td>1</td>\n",
       "      <td>0</td>\n",
       "      <td>PC 17599</td>\n",
       "      <td>71.28</td>\n",
       "      <td>C85</td>\n",
       "      <td>C</td>\n",
       "    </tr>\n",
       "    <tr>\n",
       "      <th>2</th>\n",
       "      <td>3</td>\n",
       "      <td>1</td>\n",
       "      <td>3</td>\n",
       "      <td>Heikkinen, Miss. Laina</td>\n",
       "      <td>female</td>\n",
       "      <td>26.0</td>\n",
       "      <td>0</td>\n",
       "      <td>0</td>\n",
       "      <td>STON/O2. 3101282</td>\n",
       "      <td>7.92</td>\n",
       "      <td>NaN</td>\n",
       "      <td>S</td>\n",
       "    </tr>\n",
       "    <tr>\n",
       "      <th>3</th>\n",
       "      <td>4</td>\n",
       "      <td>1</td>\n",
       "      <td>1</td>\n",
       "      <td>Futrelle, Mrs. Jacques Heath (Lily May Peel)</td>\n",
       "      <td>female</td>\n",
       "      <td>35.0</td>\n",
       "      <td>1</td>\n",
       "      <td>0</td>\n",
       "      <td>113803</td>\n",
       "      <td>53.10</td>\n",
       "      <td>C123</td>\n",
       "      <td>S</td>\n",
       "    </tr>\n",
       "    <tr>\n",
       "      <th>4</th>\n",
       "      <td>5</td>\n",
       "      <td>0</td>\n",
       "      <td>3</td>\n",
       "      <td>Allen, Mr. William Henry</td>\n",
       "      <td>male</td>\n",
       "      <td>35.0</td>\n",
       "      <td>0</td>\n",
       "      <td>0</td>\n",
       "      <td>373450</td>\n",
       "      <td>8.05</td>\n",
       "      <td>NaN</td>\n",
       "      <td>S</td>\n",
       "    </tr>\n",
       "  </tbody>\n",
       "</table>\n",
       "</div>"
      ],
      "text/plain": [
       "   PassengerId  Survived  Pclass  \\\n",
       "0            1         0       3   \n",
       "1            2         1       1   \n",
       "2            3         1       3   \n",
       "3            4         1       1   \n",
       "4            5         0       3   \n",
       "\n",
       "                                                Name     Sex   Age  SibSp  \\\n",
       "0                            Braund, Mr. Owen Harris    male  22.0      1   \n",
       "1  Cumings, Mrs. John Bradley (Florence Briggs Th...  female  38.0      1   \n",
       "2                             Heikkinen, Miss. Laina  female  26.0      0   \n",
       "3       Futrelle, Mrs. Jacques Heath (Lily May Peel)  female  35.0      1   \n",
       "4                           Allen, Mr. William Henry    male  35.0      0   \n",
       "\n",
       "   Parch            Ticket   Fare Cabin Embarked  \n",
       "0      0         A/5 21171   7.25   NaN        S  \n",
       "1      0          PC 17599  71.28   C85        C  \n",
       "2      0  STON/O2. 3101282   7.92   NaN        S  \n",
       "3      0            113803  53.10  C123        S  \n",
       "4      0            373450   8.05   NaN        S  "
      ]
     },
     "execution_count": 14,
     "metadata": {},
     "output_type": "execute_result"
    }
   ],
   "source": [
    "# At first, all the necessary libaries have been imported and will be used for later steps.\n",
    "import pandas as pd\n",
    "import numpy as np\n",
    "import seaborn as sns\n",
    "import matplotlib.pyplot as plt\n",
    "import pdb\n",
    "%matplotlib inline\n",
    "sns.set(style=\"whitegrid\")\n",
    "\n",
    "# Then, a part of the data file has been loaded to showcase the kind of data it includes\n",
    "titanic_all = pd.read_csv('Desktop/titanic-data.csv')\n",
    "titanic_all.head().round(2)"
   ]
  },
  {
   "cell_type": "code",
   "execution_count": 15,
   "metadata": {
    "scrolled": true
   },
   "outputs": [
    {
     "data": {
      "text/html": [
       "<div>\n",
       "<style>\n",
       "    .dataframe thead tr:only-child th {\n",
       "        text-align: right;\n",
       "    }\n",
       "\n",
       "    .dataframe thead th {\n",
       "        text-align: left;\n",
       "    }\n",
       "\n",
       "    .dataframe tbody tr th {\n",
       "        vertical-align: top;\n",
       "    }\n",
       "</style>\n",
       "<table border=\"1\" class=\"dataframe\">\n",
       "  <thead>\n",
       "    <tr style=\"text-align: right;\">\n",
       "      <th></th>\n",
       "      <th>PassengerId</th>\n",
       "      <th>Survived</th>\n",
       "      <th>Pclass</th>\n",
       "      <th>Age</th>\n",
       "      <th>SibSp</th>\n",
       "      <th>Parch</th>\n",
       "      <th>Fare</th>\n",
       "    </tr>\n",
       "  </thead>\n",
       "  <tbody>\n",
       "    <tr>\n",
       "      <th>count</th>\n",
       "      <td>891.00</td>\n",
       "      <td>891.00</td>\n",
       "      <td>891.00</td>\n",
       "      <td>714.00</td>\n",
       "      <td>891.00</td>\n",
       "      <td>891.00</td>\n",
       "      <td>891.00</td>\n",
       "    </tr>\n",
       "    <tr>\n",
       "      <th>mean</th>\n",
       "      <td>446.00</td>\n",
       "      <td>0.38</td>\n",
       "      <td>2.31</td>\n",
       "      <td>29.70</td>\n",
       "      <td>0.52</td>\n",
       "      <td>0.38</td>\n",
       "      <td>32.20</td>\n",
       "    </tr>\n",
       "    <tr>\n",
       "      <th>std</th>\n",
       "      <td>257.35</td>\n",
       "      <td>0.49</td>\n",
       "      <td>0.84</td>\n",
       "      <td>14.53</td>\n",
       "      <td>1.10</td>\n",
       "      <td>0.81</td>\n",
       "      <td>49.69</td>\n",
       "    </tr>\n",
       "    <tr>\n",
       "      <th>min</th>\n",
       "      <td>1.00</td>\n",
       "      <td>0.00</td>\n",
       "      <td>1.00</td>\n",
       "      <td>0.42</td>\n",
       "      <td>0.00</td>\n",
       "      <td>0.00</td>\n",
       "      <td>0.00</td>\n",
       "    </tr>\n",
       "    <tr>\n",
       "      <th>25%</th>\n",
       "      <td>223.50</td>\n",
       "      <td>0.00</td>\n",
       "      <td>2.00</td>\n",
       "      <td>20.12</td>\n",
       "      <td>0.00</td>\n",
       "      <td>0.00</td>\n",
       "      <td>7.91</td>\n",
       "    </tr>\n",
       "    <tr>\n",
       "      <th>50%</th>\n",
       "      <td>446.00</td>\n",
       "      <td>0.00</td>\n",
       "      <td>3.00</td>\n",
       "      <td>28.00</td>\n",
       "      <td>0.00</td>\n",
       "      <td>0.00</td>\n",
       "      <td>14.45</td>\n",
       "    </tr>\n",
       "    <tr>\n",
       "      <th>75%</th>\n",
       "      <td>668.50</td>\n",
       "      <td>1.00</td>\n",
       "      <td>3.00</td>\n",
       "      <td>38.00</td>\n",
       "      <td>1.00</td>\n",
       "      <td>0.00</td>\n",
       "      <td>31.00</td>\n",
       "    </tr>\n",
       "    <tr>\n",
       "      <th>max</th>\n",
       "      <td>891.00</td>\n",
       "      <td>1.00</td>\n",
       "      <td>3.00</td>\n",
       "      <td>80.00</td>\n",
       "      <td>8.00</td>\n",
       "      <td>6.00</td>\n",
       "      <td>512.33</td>\n",
       "    </tr>\n",
       "  </tbody>\n",
       "</table>\n",
       "</div>"
      ],
      "text/plain": [
       "       PassengerId  Survived  Pclass     Age   SibSp   Parch    Fare\n",
       "count       891.00    891.00  891.00  714.00  891.00  891.00  891.00\n",
       "mean        446.00      0.38    2.31   29.70    0.52    0.38   32.20\n",
       "std         257.35      0.49    0.84   14.53    1.10    0.81   49.69\n",
       "min           1.00      0.00    1.00    0.42    0.00    0.00    0.00\n",
       "25%         223.50      0.00    2.00   20.12    0.00    0.00    7.91\n",
       "50%         446.00      0.00    3.00   28.00    0.00    0.00   14.45\n",
       "75%         668.50      1.00    3.00   38.00    1.00    0.00   31.00\n",
       "max         891.00      1.00    3.00   80.00    8.00    6.00  512.33"
      ]
     },
     "execution_count": 15,
     "metadata": {},
     "output_type": "execute_result"
    }
   ],
   "source": [
    "# The next step is to review if the numerical data is complete\n",
    "titanic_all.describe().round(2)"
   ]
  },
  {
   "cell_type": "markdown",
   "metadata": {},
   "source": [
    "The table above shows that the sample is composed of 891 passengers and 38% of them survived. The mean of the age of passengers is 29.7 years old.\n",
    "\n",
    "Moreover, the count of each column is 891, except for ''Age'' that has only 714 data. It means that the age of 177 passengers is unknown. Therefore, the ''Age'' category has to be cleaned to be analysed. 177 missing values corresponds to about 20% of the 891 sample dataset.\n",
    "Another relevant fact is that children are not differentiated from adults in the list. After the cleanup of the age row, children will be defined as passengers under 16 years old."
   ]
  },
  {
   "cell_type": "markdown",
   "metadata": {},
   "source": [
    "## Data Clean-up\n",
    "\n",
    "Not all the data from the data file are necessary, such as the names, ticket, fare, parch, SibSp, cabin, embarked and passengerld. Therefore, these columns will be removed to consider only the relevant data."
   ]
  },
  {
   "cell_type": "code",
   "execution_count": 16,
   "metadata": {},
   "outputs": [
    {
     "data": {
      "text/html": [
       "<div>\n",
       "<style>\n",
       "    .dataframe thead tr:only-child th {\n",
       "        text-align: right;\n",
       "    }\n",
       "\n",
       "    .dataframe thead th {\n",
       "        text-align: left;\n",
       "    }\n",
       "\n",
       "    .dataframe tbody tr th {\n",
       "        vertical-align: top;\n",
       "    }\n",
       "</style>\n",
       "<table border=\"1\" class=\"dataframe\">\n",
       "  <thead>\n",
       "    <tr style=\"text-align: right;\">\n",
       "      <th></th>\n",
       "      <th>Survived</th>\n",
       "      <th>Pclass</th>\n",
       "      <th>Sex</th>\n",
       "      <th>Age</th>\n",
       "    </tr>\n",
       "  </thead>\n",
       "  <tbody>\n",
       "    <tr>\n",
       "      <th>0</th>\n",
       "      <td>0</td>\n",
       "      <td>3</td>\n",
       "      <td>male</td>\n",
       "      <td>22.0</td>\n",
       "    </tr>\n",
       "    <tr>\n",
       "      <th>1</th>\n",
       "      <td>1</td>\n",
       "      <td>1</td>\n",
       "      <td>female</td>\n",
       "      <td>38.0</td>\n",
       "    </tr>\n",
       "    <tr>\n",
       "      <th>2</th>\n",
       "      <td>1</td>\n",
       "      <td>3</td>\n",
       "      <td>female</td>\n",
       "      <td>26.0</td>\n",
       "    </tr>\n",
       "    <tr>\n",
       "      <th>3</th>\n",
       "      <td>1</td>\n",
       "      <td>1</td>\n",
       "      <td>female</td>\n",
       "      <td>35.0</td>\n",
       "    </tr>\n",
       "    <tr>\n",
       "      <th>4</th>\n",
       "      <td>0</td>\n",
       "      <td>3</td>\n",
       "      <td>male</td>\n",
       "      <td>35.0</td>\n",
       "    </tr>\n",
       "  </tbody>\n",
       "</table>\n",
       "</div>"
      ],
      "text/plain": [
       "   Survived  Pclass     Sex   Age\n",
       "0         0       3    male  22.0\n",
       "1         1       1  female  38.0\n",
       "2         1       3  female  26.0\n",
       "3         1       1  female  35.0\n",
       "4         0       3    male  35.0"
      ]
     },
     "execution_count": 16,
     "metadata": {},
     "output_type": "execute_result"
    }
   ],
   "source": [
    "titanic_all_cleaned = titanic_all.drop(['PassengerId','Name','Ticket','Cabin','Fare','Parch','SibSp','Embarked'], axis=1)\n",
    "titanic_all_cleaned.head()"
   ]
  },
  {
   "cell_type": "markdown",
   "metadata": {},
   "source": [
    "On top of that, missing values should be fixed to avoid any bias in the data analysis. For instance, the third question: \"Did age, regardless of sex, was a determinant factor of survival?\", is concerned with this issue. Graphs will not be affected since the data concerning age will be cleaned and rows without values will not be taken into consideration."
   ]
  },
  {
   "cell_type": "code",
   "execution_count": 17,
   "metadata": {},
   "outputs": [
    {
     "name": "stdout",
     "output_type": "stream",
     "text": [
      "The number of missing age value for women is 53.\n",
      "The number of missing age value for men is 124.\n"
     ]
    }
   ],
   "source": [
    "# To determine the number of males and females with a missing age value\n",
    "\n",
    "Missing_age = pd.isnull(titanic_all_cleaned['Age'])\n",
    "\n",
    "Missing_age_woman = titanic_all_cleaned[Missing_age]['Sex'] == 'female'\n",
    "Missing_age_men = titanic_all_cleaned[Missing_age]['Sex'] == 'male'\n",
    "\n",
    "print 'The number of missing age value for women is {}.'.format(Missing_age_woman.sum())\n",
    "print 'The number of missing age value for men is {}.'.format(Missing_age_men.sum())\n"
   ]
  },
  {
   "cell_type": "code",
   "execution_count": 21,
   "metadata": {},
   "outputs": [],
   "source": [
    "NAN = titanic_all['Age'].mean\n",
    "    \n",
    "titanic_all_age_cleaneds = titanic_all['Age'].fillna(titanic_all['Age'].mean())"
   ]
  },
  {
   "cell_type": "code",
   "execution_count": 22,
   "metadata": {},
   "outputs": [
    {
     "data": {
      "text/html": [
       "<div>\n",
       "<style>\n",
       "    .dataframe thead tr:only-child th {\n",
       "        text-align: right;\n",
       "    }\n",
       "\n",
       "    .dataframe thead th {\n",
       "        text-align: left;\n",
       "    }\n",
       "\n",
       "    .dataframe tbody tr th {\n",
       "        vertical-align: top;\n",
       "    }\n",
       "</style>\n",
       "<table border=\"1\" class=\"dataframe\">\n",
       "  <thead>\n",
       "    <tr style=\"text-align: right;\">\n",
       "      <th></th>\n",
       "      <th>Survived</th>\n",
       "      <th>Pclass</th>\n",
       "      <th>Age</th>\n",
       "    </tr>\n",
       "  </thead>\n",
       "  <tbody>\n",
       "    <tr>\n",
       "      <th>count</th>\n",
       "      <td>714.00</td>\n",
       "      <td>714.00</td>\n",
       "      <td>714.00</td>\n",
       "    </tr>\n",
       "    <tr>\n",
       "      <th>mean</th>\n",
       "      <td>0.41</td>\n",
       "      <td>2.24</td>\n",
       "      <td>29.70</td>\n",
       "    </tr>\n",
       "    <tr>\n",
       "      <th>std</th>\n",
       "      <td>0.49</td>\n",
       "      <td>0.84</td>\n",
       "      <td>14.53</td>\n",
       "    </tr>\n",
       "    <tr>\n",
       "      <th>min</th>\n",
       "      <td>0.00</td>\n",
       "      <td>1.00</td>\n",
       "      <td>0.42</td>\n",
       "    </tr>\n",
       "    <tr>\n",
       "      <th>25%</th>\n",
       "      <td>0.00</td>\n",
       "      <td>1.00</td>\n",
       "      <td>20.12</td>\n",
       "    </tr>\n",
       "    <tr>\n",
       "      <th>50%</th>\n",
       "      <td>0.00</td>\n",
       "      <td>2.00</td>\n",
       "      <td>28.00</td>\n",
       "    </tr>\n",
       "    <tr>\n",
       "      <th>75%</th>\n",
       "      <td>1.00</td>\n",
       "      <td>3.00</td>\n",
       "      <td>38.00</td>\n",
       "    </tr>\n",
       "    <tr>\n",
       "      <th>max</th>\n",
       "      <td>1.00</td>\n",
       "      <td>3.00</td>\n",
       "      <td>80.00</td>\n",
       "    </tr>\n",
       "  </tbody>\n",
       "</table>\n",
       "</div>"
      ],
      "text/plain": [
       "       Survived  Pclass     Age\n",
       "count    714.00  714.00  714.00\n",
       "mean       0.41    2.24   29.70\n",
       "std        0.49    0.84   14.53\n",
       "min        0.00    1.00    0.42\n",
       "25%        0.00    1.00   20.12\n",
       "50%        0.00    2.00   28.00\n",
       "75%        1.00    3.00   38.00\n",
       "max        1.00    3.00   80.00"
      ]
     },
     "execution_count": 22,
     "metadata": {},
     "output_type": "execute_result"
    }
   ],
   "source": [
    "titanic_all_age_cleaned = titanic_all_cleaned.dropna()\n",
    "titanic_all_age_cleaned.describe().round(2)"
   ]
  },
  {
   "cell_type": "markdown",
   "metadata": {},
   "source": [
    "The table above shows the data without the age missing value."
   ]
  },
  {
   "cell_type": "markdown",
   "metadata": {},
   "source": [
    "# Data analysis\n",
    "\n",
    "### 1. Which class had higher chances survive according to gender?"
   ]
  },
  {
   "cell_type": "code",
   "execution_count": 23,
   "metadata": {},
   "outputs": [
    {
     "name": "stdout",
     "output_type": "stream",
     "text": [
      "Upper Class - female survival rate: 96.81%\n",
      "Upper Class - male survival rate: 36.89%\n",
      "-----\n",
      "Middle Class - female survival rate: 92.11%\n",
      "Middle Class - male survival rate: 15.74%\n",
      "-----\n",
      "Lower Class - female survival rate: 50.0%\n",
      "Lower Class - male survival rate: 13.54%\n"
     ]
    }
   ],
   "source": [
    "# To analyse survival according to class and gender\n",
    "def survival_rate(pclass, sex):\n",
    "    group_total = titanic_all_cleaned.groupby(['Pclass', 'Sex']).size()[pclass,sex].astype('float')\n",
    "    group_gender_survived = titanic_all_cleaned.groupby(['Pclass','Survived','Sex']).size()[pclass,1,sex].astype('float')\n",
    "    survived_gender = (group_gender_survived / group_total * 100).round(2)\n",
    "    \n",
    "    return survived_gender\n",
    "\n",
    "# To group passengers by class, suvival and gender\n",
    "group_class_survived_size = titanic_all_cleaned.groupby(['Pclass','Survived','Sex']).size()\n",
    "\n",
    "# To showcase how many passengers survived / did not survive per class and gender\n",
    "\n",
    "print 'Upper Class - female survival rate: {}%'.format(survival_rate(1,'female'))\n",
    "print 'Upper Class - male survival rate: {}%'.format(survival_rate(1,'male'))\n",
    "print '-----'\n",
    "print 'Middle Class - female survival rate: {}%'.format(survival_rate(2,'female'))\n",
    "print 'Middle Class - male survival rate: {}%'.format(survival_rate(2,'male'))\n",
    "print '-----'\n",
    "print 'Lower Class - female survival rate: {}%'.format(survival_rate(3,'female'))\n",
    "print 'Lower Class - male survival rate: {}%'.format(survival_rate(3,'male'))"
   ]
  },
  {
   "cell_type": "markdown",
   "metadata": {},
   "source": [
    "According to the result, both men and women had the highest survival chances if they were from the upper class, then from the middle class and finally from the lower class. \n",
    "\n",
    "Concerning women, There is only 4.7% difference of survival rate for women from the upper class and middle class, then, their survival rate drops by 42.11% for the lower class.\n",
    "As for men, their survival rate starts from 36.89% if they came from the upper class, then diminishes to 15.74% if they were in the middle class and fell to 13.54% if they were in the lower class.\n",
    "\n",
    "The average survival rate of men and women are the following:\n",
    "* Upper Class: 66.85%\n",
    "* Middle Class: 53.92%\n",
    "* Lower Class: 31.77%"
   ]
  },
  {
   "cell_type": "markdown",
   "metadata": {},
   "source": [
    "### Visualization of the data"
   ]
  },
  {
   "cell_type": "code",
   "execution_count": 99,
   "metadata": {
    "scrolled": true
   },
   "outputs": [
    {
     "data": {
      "image/png": "[encoded data removed]",
      "text/plain": [
       "<matplotlib.figure.Figure at 0x11938add0>"
      ]
     },
     "metadata": {},
     "output_type": "display_data"
    }
   ],
   "source": [
    "graph = sns.factorplot('Survived', col='Sex', hue='Pclass', data=titanic_all_cleaned, kind='count', size=7, aspect=.8)\n",
    "\n",
    "(graph.set_axis_labels('Survival status', 'No. of Passengers').set_xticklabels([\"No Survival\", \"Survival\"]).set_titles('{col_name}'))\n",
    "titles = ['Male survival', 'Female survival']\n",
    "for ax, title in zip(graph.axes.flat, titles): ax.set_title(title)\n",
    "    \n",
    "plt.suptitle('Survival of passengers according to gender', fontsize=20)\n",
    "plt.tight_layout()\n",
    "plt.subplots_adjust(top=0.8)"
   ]
  },
  {
   "cell_type": "markdown",
   "metadata": {},
   "source": [
    "Acccording to the graphs above, men from the lower class had the least chances to survive. Controversely, women from the upper class had the most chances to survive.\n",
    "\t"
   ]
  },
  {
   "cell_type": "markdown",
   "metadata": {},
   "source": [
    "### 2. Were women and children prioritized over men? Was the chance of survival higher as a women or child?"
   ]
  },
  {
   "cell_type": "code",
   "execution_count": 101,
   "metadata": {
    "scrolled": true
   },
   "outputs": [
    {
     "name": "stdout",
     "output_type": "stream",
     "text": [
      "Category  Survived\n",
      "Children  0            34\n",
      "          1            49\n",
      "Men       0           341\n",
      "          1            72\n",
      "Women     0            49\n",
      "          1           169\n",
      "dtype: int64\n"
     ]
    }
   ],
   "source": [
    "# Creation of a new cateogry column and categorize passengers as Women, Men, or Children\n",
    "titanic_all_age_cleaned.loc[((titanic_all_age_cleaned['Sex'] == 'female') &(titanic_all_age_cleaned['Age'] >= 16)), 'Category'] = 'Women' \n",
    "\n",
    "titanic_all_age_cleaned.loc[((titanic_all_age_cleaned['Sex'] == 'male') &(titanic_all_age_cleaned['Age'] >= 16)), 'Category'] = 'Men'\n",
    "\n",
    "titanic_all_age_cleaned.loc[(titanic_all_age_cleaned['Age'] < 16), 'Category'] = 'Children'\n",
    "\n",
    "print (titanic_all_age_cleaned.groupby(['Category','Survived']).size())"
   ]
  },
  {
   "cell_type": "markdown",
   "metadata": {},
   "source": [
    "### Visualization of the data"
   ]
  },
  {
   "cell_type": "code",
   "execution_count": 100,
   "metadata": {},
   "outputs": [
    {
     "name": "stdout",
     "output_type": "stream",
     "text": [
      "The number of children on board were 83\n",
      "The number of adult females on board were 218\n",
      "The number of adult males on board were 413\n",
      "The amount of passengers without an unknown age is 177\n"
     ]
    },
    {
     "data": {
      "image/png": "[encoded data removed]",
      "text/plain": [
       "<matplotlib.figure.Figure at 0x1161017d0>"
      ]
     },
     "metadata": {},
     "output_type": "display_data"
    }
   ],
   "source": [
    "# A graph to clearly visualize the data\n",
    "graph = sns.factorplot('Survived', col='Category', data=titanic_all_age_cleaned, kind='count', size=7, aspect=.8)\n",
    "\n",
    "(graph.set_axis_labels('Survival status', 'No. of Passengers').set_xticklabels(['No Survival', 'Survival']))\n",
    "\n",
    "plt.suptitle('Survival of passengers', fontsize=20)\n",
    "plt.tight_layout()\n",
    "plt.subplots_adjust(top=0.8)\n",
    "\n",
    "# The amount of passengers on board, whether they were a woman, man or child    \n",
    "Child = titanic_all_age_cleaned.loc[(titanic_all_age_cleaned['Age'] < 16), 'Category']\n",
    "print \"The number of children on board were %s\" % Child.count()\n",
    "Women = titanic_all_age_cleaned.loc[((titanic_all_age_cleaned['Sex'] == 'female') &(titanic_all_age_cleaned['Age'] >= 16)), 'Category']\n",
    "print \"The number of adult females on board were %s\" % Women.count()\n",
    "Men = titanic_all_age_cleaned.loc[((titanic_all_age_cleaned['Sex'] == 'male') &(titanic_all_age_cleaned['Age'] >= 16)), 'Category']\n",
    "print \"The number of adult males on board were %s\" % Men.count()\n",
    "\n",
    "Missing_age = len(pd.isnull(titanic_all_cleaned['Age']))\n",
    "Total = Missing_age - len(Child + Women + Men)\n",
    "print \"The amount of passengers without an unknown age is %s\" %Total"
   ]
  },
  {
   "cell_type": "markdown",
   "metadata": {},
   "source": [
    "The graphs above show that adult males is the category that died the most, then adult females and finally children. However, these data cannot be compared,as the number of adult males, adult females and children varies. There were 413 adult males, 218 adult females and only 83 females on board (with 177 unknown age missing values). Therefore, since the number of adult males is about twice bigger than adult females, it is logical that there was a higher number of death for adult males than the other categories.\n",
    "\n",
    "However, these data confirm the policy of the Titanic, which was \"ladies and children first\", which explains why 341 over 413 men died, 49 over 218 women died and 34 over 83 children died. Therefore, 82.57% of men, 22.48% of women and 40.96% of children died.\n",
    "\n",
    "\n",
    "These figures clearly show that women and children were prioritized."
   ]
  },
  {
   "cell_type": "markdown",
   "metadata": {},
   "source": [
    "### 3. Did age, regardless of sex, was a determinant factor of survival?"
   ]
  },
  {
   "cell_type": "code",
   "execution_count": 97,
   "metadata": {},
   "outputs": [
    {
     "data": {
      "text/plain": [
       "<matplotlib.text.Text at 0x1147e1f10>"
      ]
     },
     "execution_count": 97,
     "metadata": {},
     "output_type": "execute_result"
    },
    {
     "data": {
      "image/png": "[encoded data removed]",
      "text/plain": [
       "<matplotlib.figure.Figure at 0x1188fe5d0>"
      ]
     },
     "metadata": {},
     "output_type": "display_data"
    }
   ],
   "source": [
    "titanic_all['Age'].hist(bins=80)\n",
    "plt.title(\"Age structure of passengers\")\n",
    "plt.ylabel(\"Amount of passengers\")\n",
    "plt.xlabel(\"Age\")"
   ]
  },
  {
   "cell_type": "markdown",
   "metadata": {},
   "source": [
    "The graph above shows the age distribution of the passengers of the Titanic. However, it is important to notice that about 20% of the sample selected has missing values conerning their age. As mentioned in the table in the section above, mean for age is 29.7."
   ]
  },
  {
   "cell_type": "code",
   "execution_count": 54,
   "metadata": {},
   "outputs": [
    {
     "data": {
      "text/plain": [
       "<matplotlib.text.Text at 0x1178ae650>"
      ]
     },
     "execution_count": 54,
     "metadata": {},
     "output_type": "execute_result"
    },
    {
     "data": {
      "image/png": "[encoded data removed]",
      "text/plain": [
       "<matplotlib.figure.Figure at 0x11775d550>"
      ]
     },
     "metadata": {},
     "output_type": "display_data"
    }
   ],
   "source": [
    "fig = sns.FacetGrid(titanic_all_age_cleaned, hue=\"Survived\",aspect=3)\n",
    "fig.map(sns.kdeplot,'Age',shade= True)\n",
    "oldest = titanic_all_age_cleaned['Age'].max()\n",
    "fig.set(xlim=(0,oldest))\n",
    "fig.add_legend()\n",
    "sns.plt.title('Age distribution of Males and Females according to survival')\n",
    "plt.ylabel(\"Amount of passengers\")\n",
    "plt.xlabel(\"Age\")\n"
   ]
  },
  {
   "cell_type": "markdown",
   "metadata": {},
   "source": [
    "The graph above shows that the age range with the highest survival chances is from 25 to 30 years old. Controversely, the age range with the lowest chances of survival is from 20 to 25 years old. The amount of suvivors and dead people have similar results according to age, except for two gaps from 0 to 10 years old and from 15 to 25 years old, where the amount of survivors is higher. This result suggest that children were priorized for being rescued."
   ]
  },
  {
   "cell_type": "markdown",
   "metadata": {},
   "source": [
    "# Conclusion"
   ]
  },
  {
   "cell_type": "markdown",
   "metadata": {},
   "source": [
    "To conclude, the highest chances of survival was for people from the first class, then middle class and finally lower class, regardless of gender. In each class, females were prioritized.\n",
    "\n",
    "Without considering the class of passengers, 82.57% of men, 22.48% of women and 40.96% of children died, which confirms the policy of \"women and children first\" on the Titanic. Therefore, men were the least rescued. A lower pourcentage of women died compared to children, which means that the survival rate was higher as a woman.\n",
    "\n",
    "And finally, age was a determinant factor for survival, since more children survived than died, which is not the case for the age range of 30 to 80 years old, where the amount of passengers that died and survived is quite similar. \n",
    "\n",
    "This projects encountered several limitations. The population of 2'224 passengers was not analyzed, but only a sample of 891 people and there is no information about the selection of the sample. There could have been some sort of intentional or unintentional bias in how the sample was selected. Further questions could be explored for a deeper analysis, such as whether the fact of travelling alone or with a family would have had an impact on survival chances."
   ]
  }
 ],
 "metadata": {
  "kernelspec": {
   "display_name": "Python 2",
   "language": "python",
   "name": "python2"
  },
  "language_info": {
   "codemirror_mode": {
    "name": "ipython",
    "version": 2
   },
   "file_extension": ".py",
   "mimetype": "text/x-python",
   "name": "python",
   "nbconvert_exporter": "python",
   "pygments_lexer": "ipython2",
   "version": "2.7.13"
  }
 },
 "nbformat": 4,
 "nbformat_minor": 2
}
